{
 "cells": [
  {
   "cell_type": "code",
   "execution_count": 1,
   "metadata": {},
   "outputs": [],
   "source": [
    "#dependencies\n",
    "import pandas as pd\n",
    "import requests\n",
    "from bs4 import BeautifulSoup as bs\n",
    "from splinter import Browser\n",
    "executable_path = {'executable_path': 'chromedriver'}"
   ]
  },
  {
   "cell_type": "code",
   "execution_count": 2,
   "metadata": {},
   "outputs": [
    {
     "name": "stdout",
     "output_type": "stream",
     "text": [
      "NASA's MAVEN Spacecraft Finds That \"Stolen\" Electrons Enable Unusual Aurora on Mars \n",
      "\n",
      " Auroras appear on Earth as ghostly displays of colorful light in the night sky, usually near the poles.\n"
     ]
    }
   ],
   "source": [
    "#Part 1: NASA MARS NEWS#Part 1:  \n",
    "browser = Browser('chrome', **executable_path, headless=False)\n",
    "browser.visit(\"https://mars.nasa.gov/news\")\n",
    "soup = bs(browser.html,'html.parser')\n",
    "news_title=soup.find(class_=\"content_title\").text\n",
    "news_paragraph=soup.find(class_=\"article_teaser_body\").text\n",
    "print(news_title,\"\\n\\n\",news_paragraph)"
   ]
  },
  {
   "cell_type": "code",
   "execution_count": 3,
   "metadata": {},
   "outputs": [
    {
     "data": {
      "text/plain": [
       "'https://www.jpl.nasa.gov/spaceimages/images/largesize/PIA18328_hires.jpg'"
      ]
     },
     "execution_count": 3,
     "metadata": {},
     "output_type": "execute_result"
    }
   ],
   "source": [
    "#Part 2: JPL SPACE IMAGES- FEATURED IMAGE#Part 2:  \n",
    "browser = Browser('chrome', **executable_path, headless=False)\n",
    "browser.visit(\"https://www.jpl.nasa.gov/spaceimages/?search=&category=Mars\")\n",
    "soup = bs(browser.html,'html.parser')\n",
    "pic=soup.find(\"article\",class_=\"carousel_item\")\n",
    "p = pic.find(\"a\")\n",
    "#we have the small/medium image, with a link to the\n",
    "#page that contains the full version.\n",
    "browser.visit(\"https://www.jpl.nasa.gov\" + p[\"data-link\"])\n",
    "soup = bs(browser.html,\"html.parser\")\n",
    "pic=soup.find(\"img\", class_=\"main_image\")\n",
    "pic_url = \"https://www.jpl.nasa.gov\" + pic[\"src\"]\n",
    "pic_url\n",
    "#this is the full hi-res version of the picture found in 1st URL"
   ]
  },
  {
   "cell_type": "code",
   "execution_count": 4,
   "metadata": {},
   "outputs": [
    {
     "data": {
      "text/plain": [
       "'L-2 years. #Mars2020'"
      ]
     },
     "execution_count": 4,
     "metadata": {},
     "output_type": "execute_result"
    }
   ],
   "source": [
    "#Part 3: MARS WEATHER\n",
    "browser = Browser('chrome', **executable_path, headless=False)\n",
    "browser.visit(\"https://twitter.com/marswxreport\")\n",
    "soup = bs(browser.html,\"html.parser\")\n",
    "mars_weather = soup.find(\"p\",class_=\"TweetTextSize TweetTextSize--normal js-tweet-text tweet-text\").text\n",
    "mars_weather"
   ]
  },
  {
   "cell_type": "code",
   "execution_count": 5,
   "metadata": {},
   "outputs": [],
   "source": [
    "#Part 4: MARS FACTS\n",
    "browser = Browser('chrome', **executable_path, headless=False)\n",
    "browser.visit(\"https://space-facts.com/mars/\")\n",
    "soup = bs(browser.html,\"html.parser\")\n",
    "table = soup.find(\"table\",id=\"tablepress-mars\")\n",
    "labels = table.find_all(\"td\",class_=\"column-1\")\n",
    "data = table.find_all(\"td\",class_=\"column-2\")\n",
    "data_list = []\n",
    "for l in labels:\n",
    "    data_list.append([l.text, data[labels.index(l)].text])\n",
    "data_df = pd.DataFrame(data_list,columns=[\"Category\",\"Data\"])"
   ]
  },
  {
   "cell_type": "code",
   "execution_count": 6,
   "metadata": {},
   "outputs": [
    {
     "data": {
      "text/plain": [
       "'<table border=\"1\" class=\"dataframe\">  <thead>    <tr style=\"text-align: right;\">      <th></th>      <th>Category</th>      <th>Data</th>    </tr>  </thead>  <tbody>    <tr>      <th>0</th>      <td>Equatorial Diameter:</td>      <td>6,792 km</td>    </tr>    <tr>      <th>1</th>      <td>Polar Diameter:</td>      <td>6,752 km</td>    </tr>    <tr>      <th>2</th>      <td>Mass:</td>      <td>6.42 x 10^23 kg (10.7% Earth)</td>    </tr>    <tr>      <th>3</th>      <td>Moons:</td>      <td>2 (Phobos &amp; Deimos)</td>    </tr>    <tr>      <th>4</th>      <td>Orbit Distance:</td>      <td>227,943,824 km (1.52 AU)</td>    </tr>    <tr>      <th>5</th>      <td>Orbit Period:</td>      <td>687 days (1.9 years)</td>    </tr>    <tr>      <th>6</th>      <td>Surface Temperature:</td>      <td>-153 to 20 °C</td>    </tr>    <tr>      <th>7</th>      <td>First Record:</td>      <td>2nd millennium BC</td>    </tr>    <tr>      <th>8</th>      <td>Recorded By:</td>      <td>Egyptian astronomers</td>    </tr>  </tbody></table>'"
      ]
     },
     "execution_count": 6,
     "metadata": {},
     "output_type": "execute_result"
    }
   ],
   "source": [
    "data_html_string = data_df.to_html().replace(\"\\n\",\"\").replace(\"\\\\n\",\"\")\n",
    "data_html_string"
   ]
  },
  {
   "cell_type": "code",
   "execution_count": 7,
   "metadata": {},
   "outputs": [
    {
     "data": {
      "text/plain": [
       "[{'img_url': 'http://astropedia.astrogeology.usgs.gov/download/Mars/Viking/syrtis_major_enhanced.tif/full.jpg',\n",
       "  'title': 'Syrtis Major Hemisphere Enhanced'},\n",
       " {'img_url': 'http://astropedia.astrogeology.usgs.gov/download/Mars/Viking/schiaparelli_enhanced.tif/full.jpg',\n",
       "  'title': 'Schiaparelli Hemisphere Enhanced'},\n",
       " {'img_url': 'http://astropedia.astrogeology.usgs.gov/download/Mars/Viking/valles_marineris_enhanced.tif/full.jpg',\n",
       "  'title': 'Valles Marineris Hemisphere Enhanced'},\n",
       " {'img_url': 'http://astropedia.astrogeology.usgs.gov/download/Mars/Viking/cerberus_enhanced.tif/full.jpg',\n",
       "  'title': 'Cerberus Hemisphere Enhanced'}]"
      ]
     },
     "execution_count": 7,
     "metadata": {},
     "output_type": "execute_result"
    }
   ],
   "source": [
    "\n",
    "#Part 5: MARS HEMISPHERES#Part 5:  \n",
    "browser = Browser('chrome', **executable_path, headless=False)\n",
    "browser.visit(\"https://astrogeology.usgs.gov/search/results?q=hemisphere+enhanced&k1=target&v1=Mars\")\n",
    "soup = bs(browser.html,\"html.parser\")\n",
    "images = soup.find_all(\"a\",class_=\"itemLink product-item\")\n",
    "link_list = []\n",
    "for i in images:\n",
    "    link_list.append(i[\"href\"])\n",
    "    links=(list(set(link_list)))\n",
    "img_dict={}\n",
    "img_url_list=[]\n",
    "for link in links:\n",
    "    browser.visit(\"https://astrogeology.usgs.gov\" + link)\n",
    "    soup=bs(browser.html,\"html.parser\")\n",
    "    imgurl = soup.find(class_=\"downloads\").find(\"a\")[\"href\"]\n",
    "    imgtitle = soup.find(\"h2\").text\n",
    "    img_dict=({\"title\":imgtitle,\"img_url\":imgurl})\n",
    "    img_url_list.append(img_dict)\n",
    "img_url_list"
   ]
  },
  {
   "cell_type": "code",
   "execution_count": null,
   "metadata": {},
   "outputs": [],
   "source": []
  },
  {
   "cell_type": "code",
   "execution_count": null,
   "metadata": {},
   "outputs": [],
   "source": []
  },
  {
   "cell_type": "code",
   "execution_count": null,
   "metadata": {},
   "outputs": [],
   "source": []
  }
 ],
 "metadata": {
  "kernelspec": {
   "display_name": "Python 3",
   "language": "python",
   "name": "python3"
  },
  "language_info": {
   "codemirror_mode": {
    "name": "ipython",
    "version": 3
   },
   "file_extension": ".py",
   "mimetype": "text/x-python",
   "name": "python",
   "nbconvert_exporter": "python",
   "pygments_lexer": "ipython3",
   "version": "3.6.4"
  }
 },
 "nbformat": 4,
 "nbformat_minor": 2
}
